{
 "cells": [
  {
   "cell_type": "code",
   "execution_count": 39,
   "metadata": {},
   "outputs": [
    {
     "name": "stdout",
     "output_type": "stream",
     "text": [
      "         Date      Open      High       Low     Close\n",
      "0  2023-06-22  33900.47  34003.56  33835.39  33885.82\n",
      "1  2023-06-21  33990.56  34097.93  33876.17  33951.52\n",
      "2  2023-06-20  34206.66  34206.66  33915.93  34053.87\n",
      "3  2023-06-16  34464.02  34588.68  34285.69  34299.12\n",
      "4  2023-06-15  33945.98  34488.98  33945.98  34408.06\n",
      "..        ...       ...       ...       ...       ...\n",
      "95 2023-02-03  33926.30  34179.58  33813.86  33926.01\n",
      "96 2023-02-02  34129.30  34145.14  33814.78  34053.94\n",
      "97 2023-02-01  34039.60  34334.70  33581.42  34092.96\n",
      "98 2023-01-31  33803.56  34095.23  33664.91  34086.04\n",
      "99 2023-01-30  33909.21  34055.29  33695.18  33717.09\n",
      "\n",
      "[100 rows x 5 columns]\n"
     ]
    }
   ],
   "source": [
    "import requests\n",
    "from bs4 import BeautifulSoup\n",
    "import pandas as pd\n",
    "\n",
    "def scrape_dow_jones_historical_data():\n",
    "    headers={'User-Agent': 'Mozilla/5.0 (Windows NT 10.0; Win64; x64) AppleWebKit/537.36 (KHTML, like Gecko) Chrome/71.0.3578.98 Safari/537.36'}\n",
    "    url = \"https://finance.yahoo.com/quote/%5EDJI/history?p=%5EDJI\"\n",
    "    response = requests.get(url, headers=headers, timeout=100)\n",
    "    soup = BeautifulSoup(response.text, 'html.parser')\n",
    "\n",
    "    table = soup.find('table', {'data-test': 'historical-prices'})\n",
    "    rows = table.tbody.find_all('tr')\n",
    "\n",
    "    data = []\n",
    "    for row in rows:\n",
    "        cells = row.find_all('td')\n",
    "        #if len(cells) == 7:\n",
    "        date = cells[0].text\n",
    "        openprice = cells[1].text\n",
    "        highprice = cells[2].text\n",
    "        lowprice = cells[3].text\n",
    "        close = cells[5].text\n",
    "        data.append({'Date': date, 'Open': openprice, 'High': highprice,\n",
    "                     'Low': lowprice, 'Close': close})\n",
    "\n",
    "    df = pd.DataFrame(data)\n",
    "    df['Date'] = pd.to_datetime(df['Date'])\n",
    "    df['Open'] = pd.to_numeric(df['Open'].str.replace(',', ''))\n",
    "    df['High'] = pd.to_numeric(df['High'].str.replace(',', ''))\n",
    "    df['Low'] = pd.to_numeric(df['Low'].str.replace(',', ''))\n",
    "    df['Close'] = pd.to_numeric(df['Close'].str.replace(',', ''))\n",
    "\n",
    "    return df\n",
    "\n",
    "dow_jones_data = scrape_dow_jones_historical_data()\n",
    "print(dow_jones_data)\n",
    "dow_jones_data.to_csv(\"sample_data.csv\", index = False)"
   ]
  },
  {
   "cell_type": "code",
   "execution_count": null,
   "metadata": {},
   "outputs": [],
   "source": []
  }
 ],
 "metadata": {
  "kernelspec": {
   "display_name": "Python 3 (ipykernel)",
   "language": "python",
   "name": "python3"
  },
  "language_info": {
   "codemirror_mode": {
    "name": "ipython",
    "version": 3
   },
   "file_extension": ".py",
   "mimetype": "text/x-python",
   "name": "python",
   "nbconvert_exporter": "python",
   "pygments_lexer": "ipython3",
   "version": "3.10.9"
  }
 },
 "nbformat": 4,
 "nbformat_minor": 2
}
